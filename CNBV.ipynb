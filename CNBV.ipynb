{
 "cells": [
  {
   "cell_type": "markdown",
   "metadata": {},
   "source": [
    "# Extracción de variables operativas de la CNBV"
   ]
  },
  {
   "cell_type": "code",
   "execution_count": 36,
   "metadata": {},
   "outputs": [],
   "source": [
    "##    Las variables operativas se refieren a las características de diferentes instituciones \n",
    "##    financieras tales como: el número de sucursales, tdc, tpv, cajeros. Estas se encuentran \n",
    "##    a nivel mes-municipio.\n"
   ]
  },
  {
   "cell_type": "code",
   "execution_count": 37,
   "metadata": {},
   "outputs": [],
   "source": [
    "from selenium import webdriver\n",
    "from selenium.webdriver.common.keys import Keys\n",
    "from selenium.webdriver.support.ui import Select\n",
    "import time\n",
    "from random import seed\n",
    "from random import randint\n",
    "import pandas as pd\n",
    "import re \n",
    "import shutil\n",
    "import os"
   ]
  },
  {
   "cell_type": "markdown",
   "metadata": {},
   "source": [
    "### Hardcoded: path para guardar los archivos descargados"
   ]
  },
  {
   "cell_type": "code",
   "execution_count": 38,
   "metadata": {},
   "outputs": [],
   "source": [
    "path_download = \"/home/ant/Downloads/\"\n",
    "path_save = \"/home/ant/Documents/Tesis/cnbv_data/\""
   ]
  },
  {
   "cell_type": "markdown",
   "metadata": {},
   "source": [
    "## Extraer los checkboxes"
   ]
  },
  {
   "cell_type": "code",
   "execution_count": 39,
   "metadata": {},
   "outputs": [],
   "source": [
    "url = 'https://picomponentebi.cnbv.gob.mx/ReportViwer/ReportService?sector=40&tema=124&subTema=0&tipoInformacion=0&subTipoInformacion=0&idReporte=40S2422&idPortafolio=0&idTipoReporteBI=1'\n",
    "driver = webdriver.Chrome()\n",
    "driver.get(url)\n",
    "time.sleep(10)\n",
    "ids = driver.find_elements_by_xpath('//*[@id]')\n",
    "lista_ids = []\n",
    "for ii in ids:\n",
    "    lista_ids.append(ii.get_attribute('id')) "
   ]
  },
  {
   "cell_type": "code",
   "execution_count": 40,
   "metadata": {},
   "outputs": [],
   "source": [
    "subs = '_\\d\\d\\d\\d\\d\\d'\n",
    "fechas = [x for x in lista_ids if re.search(subs, x)] "
   ]
  },
  {
   "cell_type": "code",
   "execution_count": 41,
   "metadata": {},
   "outputs": [],
   "source": [
    "subs = 'chk_[a-zA-Z]'\n",
    "bancos = [x for x in lista_ids if re.search(subs, x)] \n",
    "bancos = bancos[2:]"
   ]
  },
  {
   "cell_type": "code",
   "execution_count": 49,
   "metadata": {},
   "outputs": [],
   "source": [
    "def get_data(fecha,banco):\n",
    "    \n",
    "    print(\"Fecha: \",fecha)\n",
    "    print(\"Banco: \",banco)\n",
    "    \n",
    "    timmer = randint(10,20)\n",
    "    print('Inicia timer de...{} segundos'.format(timmer))\n",
    "    time.sleep(timmer)\n",
    "    \n",
    "    # Ir a la página\n",
    "    url = 'https://picomponentebi.cnbv.gob.mx/ReportViwer/ReportService?sector=40&tema=124&subTema=0&tipoInformacion=0&subTipoInformacion=0&idReporte=40S2422&idPortafolio=0&idTipoReporteBI=1'\n",
    "    driver = webdriver.Chrome()\n",
    "    driver.get(url)\n",
    "    time.sleep(10)\n",
    "    \n",
    "    # Filtros\n",
    "    elem1 = driver.find_elements_by_xpath(\"//button[@id='btn_OcultaFiltros']\")\n",
    "    time.sleep(5)\n",
    "    elem1[0].click()\n",
    "    time.sleep(5)\n",
    "    \n",
    "    #Customize filtros\n",
    "    driver.find_element_by_css_selector(\"input[type='radio'][value='14']\").click()\n",
    "    \n",
    "    print(\"--------- FECHAS ---------\")\n",
    "    #este es el default \n",
    "    if (fecha != 'chk_201912'):\n",
    "        # Seleccionar una fecha\n",
    "        checkboxElement = driver.find_element_by_id(\"{}\".format(fecha))\n",
    "        checkboxElement.click()\n",
    "        time.sleep(5)\n",
    "        \n",
    "         # De-seleccionar el default\n",
    "        checkboxElement = driver.find_element_by_id(\"chk_201912\")\n",
    "        checkboxElement.click()\n",
    "        time.sleep(5)\n",
    "    #Cuando sí sea, ya está seleccionado y seguimossss\n",
    "    \n",
    "    #Institución\n",
    "    driver.find_element_by_id(\"Institucion_6_H\").click()\n",
    "    time.sleep(5)\n",
    "    \n",
    "    print(\"--------- INSTITUCION ---------\")\n",
    "    if (banco != 'chk_ABC_Capital'):\n",
    "        # Seleccionar institución\n",
    "        check_box = driver.find_element_by_id(\"{}\".format(banco))\n",
    "        check_box.click()\n",
    "        time.sleep(5)\n",
    "        \n",
    "        #Deseleccionar\n",
    "        checkboxElement = driver.find_element_by_id(\"chk_ABC_Capital\")\n",
    "        checkboxElement.click()\n",
    "        time.sleep(5)\n",
    "        \n",
    "    \n",
    "    #Generar reporte\n",
    "    element = driver.find_elements_by_xpath(\"//button[@id='btn_GeneraRoporte']\")\n",
    "    element[0].click()\n",
    "    time.sleep(15)\n",
    "    \n",
    "    ####Descargar datos\n",
    "    # cambiar de frame\n",
    "    driver.switch_to.frame('IFrame_Container')\n",
    "    time.sleep(5)\n",
    "\n",
    "    #cambiar al 2do frame\n",
    "    frame3 = driver.find_element_by_xpath(\"//iframe[@src='/ReportViewerWebForm.aspx']\")\n",
    "    driver.switch_to.frame(frame3)\n",
    "    time.sleep(5)\n",
    "\n",
    "    #drop down \n",
    "    checkbox = driver.find_element_by_xpath(\"//img[@id='ReportViewer1_ctl05_ctl04_ctl00_ButtonImgDown']\")\n",
    "    checkbox.click()\n",
    "    time.sleep(5)\n",
    "\n",
    "    #descargar archivo\n",
    "    checkbox2 = driver.find_element_by_xpath(\"//a[@title='CSV (delimitado por comas)']\")\n",
    "    checkbox2.click()\n",
    "    \n",
    "    timmer = randint(15,30)\n",
    "    print('Inicia timer de...{} segundos'.format(timmer))\n",
    "    time.sleep(timmer)\n",
    "    \n",
    "    new_name = fecha.replace(\"chk_\",\"\") + \"_\" + banco.replace(\"chk_\",\"\") + \".csv\" \n",
    "    #current_name = path_download + 'S2422.csv' \n",
    "    #current_path_new_name = path_download + new_name\n",
    "    \n",
    "    os.rename(path_download + 'S2422.csv',path_download + new_name)\n",
    "    \n",
    "    #download = path_download +  '{}'.format(new_name)\n",
    "    #save = path_save + '{}'.format(new_name)\n",
    "    shutil.move(path_download +  new_name, path_save + new_name)\n",
    "\n",
    "    print(\"---- ARCHIVO CORRECTAMENTE DESCARGADO ----\")\n"
   ]
  },
  {
   "cell_type": "markdown",
   "metadata": {},
   "source": [
    "# Descargar data"
   ]
  },
  {
   "cell_type": "code",
   "execution_count": 53,
   "metadata": {},
   "outputs": [],
   "source": [
    "for i in fechas:\n",
    "    for j in bancos[38:]:\n",
    "        get_data(i,j)"
   ]
  },
  {
   "cell_type": "code",
   "execution_count": 3,
   "metadata": {},
   "outputs": [],
   "source": [
    "# Desde aquí : Fecha:  chk_201912\n",
    "# Banco:  chk_Banorte/Ixe"
   ]
  },
  {
   "cell_type": "code",
   "execution_count": 52,
   "metadata": {},
   "outputs": [
    {
     "data": {
      "text/plain": [
       "['chk_Banco_Bancrea',\n",
       " 'chk_Banorte/Ixe',\n",
       " 'chk_Inbursa',\n",
       " 'chk_Scotiabank',\n",
       " 'chk_Banco_Base',\n",
       " 'chk_Banregio',\n",
       " 'chk_ING',\n",
       " 'chk_The_Bank_of_New_York_Mellon',\n",
       " 'chk_Banco_Bicentenario',\n",
       " 'chk_Bansí',\n",
       " 'chk_Inmobiliario_Mexicano',\n",
       " 'chk_UBS']"
      ]
     },
     "execution_count": 52,
     "metadata": {},
     "output_type": "execute_result"
    }
   ],
   "source": [
    "bancos[38:]"
   ]
  },
  {
   "cell_type": "code",
   "execution_count": null,
   "metadata": {},
   "outputs": [],
   "source": []
  }
 ],
 "metadata": {
  "kernelspec": {
   "display_name": "orax_report",
   "language": "python",
   "name": "orax_report"
  },
  "language_info": {
   "codemirror_mode": {
    "name": "ipython",
    "version": 3
   },
   "file_extension": ".py",
   "mimetype": "text/x-python",
   "name": "python",
   "nbconvert_exporter": "python",
   "pygments_lexer": "ipython3",
   "version": "3.6.9"
  }
 },
 "nbformat": 4,
 "nbformat_minor": 2
}
